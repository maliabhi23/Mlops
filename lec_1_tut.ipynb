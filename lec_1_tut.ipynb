{
 "cells": [
  {
   "cell_type": "markdown",
   "id": "173287f7",
   "metadata": {},
   "source": [
    "1. Install boto3 and fastAPI package using pip\n"
   ]
  },
  {
   "cell_type": "markdown",
   "id": "0201b5c3",
   "metadata": {},
   "source": [
    "2. Verify if the id of dictionary modify if we add new key in it? Try to find justification\n",
    "behind the result.\n"
   ]
  },
  {
   "cell_type": "markdown",
   "id": "e97a7d6a",
   "metadata": {},
   "source": []
  },
  {
   "cell_type": "code",
   "execution_count": 63,
   "id": "b1d93e62",
   "metadata": {},
   "outputs": [
    {
     "name": "stdout",
     "output_type": "stream",
     "text": [
      "{'one': '1', 'two': '2', 'three': '3'}\n",
      "2736499290816\n"
     ]
    }
   ],
   "source": [
    "dict1={\"one\":\"1\",\n",
    "        \"two\":\"2\",\n",
    "        \"three\":\"3\"\n",
    "       }\n",
    "print(dict1)\n",
    "print(id(dict1))"
   ]
  },
  {
   "cell_type": "code",
   "execution_count": 64,
   "id": "a7c567a2",
   "metadata": {},
   "outputs": [
    {
     "name": "stdout",
     "output_type": "stream",
     "text": [
      "2736499290816\n"
     ]
    }
   ],
   "source": [
    "dict1[\"three\"]=\"333\"\n",
    "dict1[\"four\"]=\"4\"\n",
    "dict1[\"five\"]=\"5\"\n",
    "print(id(dict1))\n",
    "#its been the mutable so the id cant changes"
   ]
  },
  {
   "cell_type": "markdown",
   "id": "5539bf76",
   "metadata": {},
   "source": [
    "3. Try division operator with 100 / 0 and note down the output"
   ]
  },
  {
   "cell_type": "markdown",
   "id": "89585457",
   "metadata": {},
   "source": []
  },
  {
   "cell_type": "code",
   "execution_count": 65,
   "id": "6ec7cb50",
   "metadata": {},
   "outputs": [
    {
     "ename": "ZeroDivisionError",
     "evalue": "division by zero",
     "output_type": "error",
     "traceback": [
      "\u001b[1;31m---------------------------------------------------------------------------\u001b[0m",
      "\u001b[1;31mZeroDivisionError\u001b[0m                         Traceback (most recent call last)",
      "Cell \u001b[1;32mIn[65], line 1\u001b[0m\n\u001b[1;32m----> 1\u001b[0m \u001b[38;5;28mprint\u001b[39m(\u001b[38;5;241;43m100\u001b[39;49m\u001b[38;5;241;43m/\u001b[39;49m\u001b[38;5;241;43m0\u001b[39;49m)\u001b[38;5;66;03m#them the it raise the exception to avoid it must be used the try catch bolck \u001b[39;00m\n",
      "\u001b[1;31mZeroDivisionError\u001b[0m: division by zero"
     ]
    }
   ],
   "source": [
    "print(100/0)#them the it raise the exception to avoid it must be used the try catch bolck "
   ]
  },
  {
   "cell_type": "markdown",
   "id": "c1e71a2e",
   "metadata": {},
   "source": [
    "4. Create a list 5 fruits and find out if �oranges� present in that list, if present then\n",
    "print down the index of �oranges� Note: use loop and condition.\n"
   ]
  },
  {
   "cell_type": "code",
   "execution_count": null,
   "id": "5036b35e",
   "metadata": {},
   "outputs": [
    {
     "name": "stdout",
     "output_type": "stream",
     "text": [
      "\n",
      "\n",
      "\n",
      "\n",
      "orange index is the m  4\n",
      "\n"
     ]
    }
   ],
   "source": [
    "l1=[\"Apple\",\"Banana\",\"Blackberry\",\"Cherry\",\"orange\"]\n",
    "for fruit in l1:\n",
    "    if fruit==\"orange\":\n",
    "        print(\"orange index is the m \",l1.index(fruit))\n",
    "    print()\n",
    "    "
   ]
  },
  {
   "cell_type": "markdown",
   "id": "a792e9d4",
   "metadata": {},
   "source": [
    "5. Write python code to print below pyramid. Please note, the pyramid height must be\n",
    "configurable\n"
   ]
  },
  {
   "cell_type": "code",
   "execution_count": null,
   "id": "0e55e888",
   "metadata": {},
   "outputs": [
    {
     "name": "stdout",
     "output_type": "stream",
     "text": [
      "    *\n",
      "   **\n",
      "  ***\n",
      " ****\n",
      "*****\n"
     ]
    }
   ],
   "source": [
    "n=int(input(\"enter the number\"))\n",
    "\n",
    "for i in range(1,n+1):\n",
    "    for j in range(n-i):\n",
    "        print(\" \",end=\"\")\n",
    "    for o in range(i):\n",
    "        print(\"*\",end=\"\")\n",
    "    print()"
   ]
  },
  {
   "cell_type": "code",
   "execution_count": null,
   "id": "b502f806",
   "metadata": {},
   "outputs": [],
   "source": []
  }
 ],
 "metadata": {
  "kernelspec": {
   "display_name": "Python 3",
   "language": "python",
   "name": "python3"
  },
  "language_info": {
   "codemirror_mode": {
    "name": "ipython",
    "version": 3
   },
   "file_extension": ".py",
   "mimetype": "text/x-python",
   "name": "python",
   "nbconvert_exporter": "python",
   "pygments_lexer": "ipython3",
   "version": "3.12.1"
  }
 },
 "nbformat": 4,
 "nbformat_minor": 5
}
